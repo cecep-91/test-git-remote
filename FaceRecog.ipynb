{
  "nbformat": 4,
  "nbformat_minor": 0,
  "metadata": {
    "colab": {
      "provenance": [],
      "authorship_tag": "ABX9TyOY9BX/+yRTtISexLJHKQ07",
      "include_colab_link": true
    },
    "kernelspec": {
      "name": "python3",
      "display_name": "Python 3"
    },
    "language_info": {
      "name": "python"
    }
  },
  "cells": [
    {
      "cell_type": "markdown",
      "metadata": {
        "id": "view-in-github",
        "colab_type": "text"
      },
      "source": [
        "<a href=\"https://colab.research.google.com/github/cecep-91/test-git-remote/blob/testing/FaceRecog.ipynb\" target=\"_parent\"><img src=\"https://colab.research.google.com/assets/colab-badge.svg\" alt=\"Open In Colab\"/></a>"
      ]
    },
    {
      "cell_type": "code",
      "execution_count": null,
      "metadata": {
        "id": "gkbAAD5VGX0P"
      },
      "outputs": [],
      "source": [
        "import cv2\n",
        "import urllib.request\n",
        "import numpy as np\n",
        "\n",
        "url = 'http://yourip:8080/shot.jpg'\n",
        "face = cv2.CascadeClassifier('face-detect.xml')\n",
        "\n",
        "while True:\n",
        "    imgRes = urllib.request.urlopen(url)\n",
        "    imgNumpy = np.array(bytearray(imgRes.read()), dtype=np.uint8)\n",
        "    img = cv2.imdecode(imgNumpy, -1)\n",
        "    gray = cv2.cvtColor(img, cv2.COLOR_BGR2GRAY)\n",
        "\n",
        "    obj = face.detectMultiScale(gray, 1.3, 5)\n",
        "    for (x,y,w,h) in obj:\n",
        "        cv2.rectangle(img, (x,y), (x+w, y+h),(0,255.0,0), 2)\n",
        "        cv2.color = img[y:y+h, x:x+w]\n",
        "        cv2.gray  = gray[y:y+h, x:x+w]\n",
        "\n",
        "    cv2.imshow('test',img)\n",
        "    if ord('q')==cv2.waitKey(1):\n",
        "        exit(0)"
      ]
    }
  ]
}